{
 "cells": [
  {
   "cell_type": "code",
   "execution_count": 3,
   "metadata": {},
   "outputs": [],
   "source": [
    "import numpy as np \n",
    "training_sample = 100000\n",
    "DIGIT = 4"
   ]
  },
  {
   "cell_type": "code",
   "execution_count": 4,
   "metadata": {},
   "outputs": [],
   "source": [
    "i2w = [str(i) for i in range(10)]+['+']\n",
    "w2i = {str(v):k for k,v in enumerate(i2w)}"
   ]
  },
  {
   "cell_type": "code",
   "execution_count": 5,
   "metadata": {},
   "outputs": [],
   "source": [
    "X,Y = [],[]\n",
    "for i in range(training_sample):\n",
    "    a = np.random.randint(1001,10000-1)\n",
    "    b = np.random.randint(1001,10000-1)\n",
    "    c = str(a+b)\n",
    "    x = str(a)+'+'+str(b)\n",
    "    x = '0'*(2*DIGIT+1-len(x)) + x\n",
    "    c = '0'*(DIGIT+1-len(c)) + c\n",
    "    \n",
    "    x = [w2i[i] for i in x]\n",
    "    c = [w2i[i] for i in c]\n",
    "    X.append(x)\n",
    "    Y.append(c)  "
   ]
  },
  {
   "cell_type": "code",
   "execution_count": 6,
   "metadata": {},
   "outputs": [],
   "source": [
    "import tensorflow  as tf\n",
    "import tensorflow.keras as keras\n",
    "from tensorflow.keras import layers,Model"
   ]
  },
  {
   "cell_type": "code",
   "execution_count": 7,
   "metadata": {},
   "outputs": [],
   "source": [
    "X = np.array(X)\n",
    "Y = np.array(Y)"
   ]
  },
  {
   "cell_type": "code",
   "execution_count": 8,
   "metadata": {},
   "outputs": [
    {
     "data": {
      "text/plain": [
       "array([ 5,  1,  7,  9, 10,  3,  7,  4,  8])"
      ]
     },
     "execution_count": 8,
     "metadata": {},
     "output_type": "execute_result"
    }
   ],
   "source": [
    "X[0]"
   ]
  },
  {
   "cell_type": "code",
   "execution_count": 9,
   "metadata": {},
   "outputs": [
    {
     "data": {
      "text/plain": [
       "['0', '1', '2', '3', '4', '5', '6', '7', '8', '9', '+']"
      ]
     },
     "execution_count": 9,
     "metadata": {},
     "output_type": "execute_result"
    }
   ],
   "source": [
    "i2w"
   ]
  },
  {
   "cell_type": "code",
   "execution_count": 10,
   "metadata": {},
   "outputs": [
    {
     "name": "stdout",
     "output_type": "stream",
     "text": [
      "Model: \"functional_1\"\n",
      "_________________________________________________________________\n",
      "Layer (type)                 Output Shape              Param #   \n",
      "=================================================================\n",
      "input_1 (InputLayer)         [(None, 9)]               0         \n",
      "_________________________________________________________________\n",
      "embedding (Embedding)        (None, 9, 32)             352       \n",
      "_________________________________________________________________\n",
      "lstm (LSTM)                  (None, 9, 64)             24832     \n",
      "_________________________________________________________________\n",
      "lstm_1 (LSTM)                (None, 64)                33024     \n",
      "_________________________________________________________________\n",
      "repeat_vector (RepeatVector) (None, 5, 64)             0         \n",
      "_________________________________________________________________\n",
      "dense (Dense)                (None, 5, 128)            8320      \n",
      "_________________________________________________________________\n",
      "dense_1 (Dense)              (None, 5, 11)             1419      \n",
      "=================================================================\n",
      "Total params: 67,947\n",
      "Trainable params: 67,947\n",
      "Non-trainable params: 0\n",
      "_________________________________________________________________\n"
     ]
    }
   ],
   "source": [
    "Input = layers.Input(shape=(2*DIGIT+1,))\n",
    "\n",
    "embedding = layers.Embedding(11,32)(Input)\n",
    "lstm1 = layers.LSTM(64,return_sequences=True,activation='tanh')(embedding)\n",
    "lstm2 = layers.LSTM(64,return_sequences=False,activation='tanh')(lstm1)\n",
    "\n",
    "lstm = layers.RepeatVector(DIGIT + 1)(lstm2)\n",
    "\n",
    "ffn = layers.Dense(128,activation='relu')(lstm)\n",
    "\n",
    "ffn = layers.Dense(11,activation='sigmoid')(ffn)\n",
    "\n",
    "\n",
    "model = Model(Input, ffn)\n",
    "\n",
    "model.compile(optimizer='nadam', loss=\"sparse_categorical_crossentropy\", metrics=[\"sparse_categorical_accuracy\"])\n",
    "model.summary()"
   ]
  },
  {
   "cell_type": "code",
   "execution_count": 11,
   "metadata": {},
   "outputs": [
    {
     "name": "stdout",
     "output_type": "stream",
     "text": [
      "Epoch 1/10\n",
      "1125/1125 [==============================] - 10s 8ms/step - loss: 2.1891 - sparse_categorical_accuracy: 0.2290 - val_loss: 2.1037 - val_sparse_categorical_accuracy: 0.2801\n",
      "Epoch 2/10\n",
      "1125/1125 [==============================] - 9s 8ms/step - loss: 2.0796 - sparse_categorical_accuracy: 0.2809 - val_loss: 2.0634 - val_sparse_categorical_accuracy: 0.2806\n",
      "Epoch 3/10\n",
      "1125/1125 [==============================] - 9s 8ms/step - loss: 2.0556 - sparse_categorical_accuracy: 0.2835 - val_loss: 2.0514 - val_sparse_categorical_accuracy: 0.2859\n",
      "Epoch 4/10\n",
      "1125/1125 [==============================] - 9s 8ms/step - loss: 2.0448 - sparse_categorical_accuracy: 0.2862 - val_loss: 2.0395 - val_sparse_categorical_accuracy: 0.2872\n",
      "Epoch 5/10\n",
      "1125/1125 [==============================] - 10s 9ms/step - loss: 2.0314 - sparse_categorical_accuracy: 0.2885 - val_loss: 2.0282 - val_sparse_categorical_accuracy: 0.2900\n",
      "Epoch 6/10\n",
      "1125/1125 [==============================] - 10s 9ms/step - loss: 2.0209 - sparse_categorical_accuracy: 0.2898 - val_loss: 2.0143 - val_sparse_categorical_accuracy: 0.2903\n",
      "Epoch 7/10\n",
      "1125/1125 [==============================] - 10s 9ms/step - loss: 2.0132 - sparse_categorical_accuracy: 0.2913 - val_loss: 2.0101 - val_sparse_categorical_accuracy: 0.2904\n",
      "Epoch 8/10\n",
      "1125/1125 [==============================] - 10s 9ms/step - loss: 2.0079 - sparse_categorical_accuracy: 0.2924 - val_loss: 2.0050 - val_sparse_categorical_accuracy: 0.2913\n",
      "Epoch 9/10\n",
      "1125/1125 [==============================] - 10s 9ms/step - loss: 2.0029 - sparse_categorical_accuracy: 0.2933 - val_loss: 2.0013 - val_sparse_categorical_accuracy: 0.2938\n",
      "Epoch 10/10\n",
      "1125/1125 [==============================] - 10s 9ms/step - loss: 1.9993 - sparse_categorical_accuracy: 0.2940 - val_loss: 1.9984 - val_sparse_categorical_accuracy: 0.2939\n"
     ]
    },
    {
     "data": {
      "text/plain": [
       "<tensorflow.python.keras.callbacks.History at 0x2065e63d3c8>"
      ]
     },
     "execution_count": 11,
     "metadata": {},
     "output_type": "execute_result"
    }
   ],
   "source": [
    "model.fit(X[:-10000],Y[:-10000],batch_size = 64, epochs = 10,validation_split=.2)"
   ]
  },
  {
   "cell_type": "code",
   "execution_count": 12,
   "metadata": {},
   "outputs": [],
   "source": [
    "z = (model.predict(X[-10000:]))"
   ]
  },
  {
   "cell_type": "code",
   "execution_count": 13,
   "metadata": {},
   "outputs": [],
   "source": [
    "z = z.argmax(axis=-1)"
   ]
  },
  {
   "cell_type": "code",
   "execution_count": null,
   "metadata": {},
   "outputs": [],
   "source": [
    "Y.shape"
   ]
  },
  {
   "cell_type": "code",
   "execution_count": null,
   "metadata": {},
   "outputs": [],
   "source": [
    "z.shape"
   ]
  },
  {
   "cell_type": "code",
   "execution_count": 16,
   "metadata": {},
   "outputs": [
    {
     "data": {
      "text/plain": [
       "array([1, 1, 1, ..., 2, 2, 1])"
      ]
     },
     "execution_count": 16,
     "metadata": {},
     "output_type": "execute_result"
    }
   ],
   "source": [
    "np.sum(z==Y[-10000:],axis=-1)"
   ]
  },
  {
   "cell_type": "code",
   "execution_count": 17,
   "metadata": {},
   "outputs": [
    {
     "data": {
      "text/plain": [
       "array([[5, 5, 5, 5, 5],\n",
       "       [1, 1, 1, 1, 1],\n",
       "       [3, 3, 3, 3, 3],\n",
       "       ...,\n",
       "       [1, 1, 1, 1, 1],\n",
       "       [3, 3, 3, 3, 3],\n",
       "       [3, 3, 3, 3, 3]], dtype=int64)"
      ]
     },
     "execution_count": 17,
     "metadata": {},
     "output_type": "execute_result"
    }
   ],
   "source": [
    "z"
   ]
  },
  {
   "cell_type": "code",
   "execution_count": null,
   "metadata": {},
   "outputs": [],
   "source": [
    "a = layers.Input(shape=(DIGIT,))\n",
    "b = layers.Input(shape=(DIGIT,))\n",
    "\n",
    "embedding = layers.Embedding(2*DIGIT+1,32)(layers.con)\n",
    "lstm1 = layers.LSTM(64,return_sequences=True,activation='tanh')(embedding)\n",
    "lstm2 = layers.LSTM(64,return_sequences=False,activation='tanh')(lstm1)\n",
    "\n",
    "lstm = layers.RepeatVector(DIGIT + 1)(lstm2)\n",
    "\n",
    "ffn = layers.Dense(128,activation='relu')(lstm)\n",
    "\n",
    "ffn = layers.Dense(11,activation='sigmoid')(ffn)\n",
    "\n",
    "\n",
    "model = Model(Input, ffn)\n",
    "\n",
    "model.compile(optimizer='nadam', loss=\"sparse_categorical_crossentropy\", metrics=[\"sparse_categorical_accuracy\"])\n",
    "model.summary()"
   ]
  },
  {
   "cell_type": "code",
   "execution_count": null,
   "metadata": {},
   "outputs": [],
   "source": []
  },
  {
   "cell_type": "code",
   "execution_count": null,
   "metadata": {},
   "outputs": [],
   "source": [
    "np.random.randint(1000,10000)"
   ]
  }
 ],
 "metadata": {
  "interpreter": {
   "hash": "a7033445c19285d08019bde5b5bfb007824781dd607a761c94e972baa924ec36"
  },
  "kernelspec": {
   "display_name": "Python 3 (ipykernel)",
   "language": "python",
   "name": "python3"
  },
  "language_info": {
   "codemirror_mode": {
    "name": "ipython",
    "version": 3
   },
   "file_extension": ".py",
   "mimetype": "text/x-python",
   "name": "python",
   "nbconvert_exporter": "python",
   "pygments_lexer": "ipython3",
   "version": "3.7.10"
  }
 },
 "nbformat": 4,
 "nbformat_minor": 2
}
